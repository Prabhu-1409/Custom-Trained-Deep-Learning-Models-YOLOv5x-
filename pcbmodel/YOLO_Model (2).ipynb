{
  "nbformat": 4,
  "nbformat_minor": 0,
  "metadata": {
    "colab": {
      "provenance": [],
      "gpuType": "T4"
    },
    "kernelspec": {
      "name": "python3",
      "display_name": "Python 3"
    },
    "language_info": {
      "name": "python"
    },
    "accelerator": "GPU"
  },
  "cells": [
    {
      "cell_type": "code",
      "execution_count": 1,
      "metadata": {
        "colab": {
          "base_uri": "https://localhost:8080/"
        },
        "id": "Xz-ax58aGQ99",
        "outputId": "28d0d3ed-3dda-451e-94e9-5598185b6fa1"
      },
      "outputs": [
        {
          "output_type": "stream",
          "name": "stdout",
          "text": [
            "Setup complete. Using torch 2.1.0+cu121 (Tesla T4)\n"
          ]
        }
      ],
      "source": [
        "import torch\n",
        "import os\n",
        "from IPython.display import Image, clear_output\n",
        "\n",
        "print(f\"Setup complete. Using torch {torch.__version__} ({torch.cuda.get_device_properties(0).name if torch.cuda.is_available() else 'CPU'})\")"
      ]
    },
    {
      "cell_type": "code",
      "source": [
        "!unzip -q /content/pcbdataset.zip -d /content/pcbdataset"
      ],
      "metadata": {
        "id": "DX_VrJ2jxQVA"
      },
      "execution_count": 14,
      "outputs": []
    },
    {
      "cell_type": "code",
      "source": [
        "!git clone https://github.com/ultralytics/yolov5"
      ],
      "metadata": {
        "colab": {
          "base_uri": "https://localhost:8080/"
        },
        "id": "r0HVDtVOgxVz",
        "outputId": "2f9e072d-58b6-4c0a-dad5-12569a29ff60"
      },
      "execution_count": 3,
      "outputs": [
        {
          "output_type": "stream",
          "name": "stdout",
          "text": [
            "Cloning into 'yolov5'...\n",
            "remote: Enumerating objects: 16388, done.\u001b[K\n",
            "remote: Counting objects: 100% (282/282), done.\u001b[K\n",
            "remote: Compressing objects: 100% (211/211), done.\u001b[K\n",
            "remote: Total 16388 (delta 139), reused 153 (delta 71), pack-reused 16106\u001b[K\n",
            "Receiving objects: 100% (16388/16388), 15.09 MiB | 19.59 MiB/s, done.\n",
            "Resolving deltas: 100% (11177/11177), done.\n"
          ]
        }
      ]
    },
    {
      "cell_type": "code",
      "source": [
        "import yaml\n",
        "\n",
        "config = {\n",
        "    'path':'/content/pcbdataset/',\n",
        "    'train':'/content/pcbdataset/train/',\n",
        "    'val':'/content/pcbdataset/valid/',\n",
        "    'test':'/content/pcbdataset/test/',\n",
        "    'nc': 6,\n",
        "    'names': ['missing_hole', 'mouse_bite', 'open_circuit', 'short', 'spur', 'spurious_copper']\n",
        "\n",
        "}"
      ],
      "metadata": {
        "id": "oTFaGR0310IJ"
      },
      "execution_count": 4,
      "outputs": []
    },
    {
      "cell_type": "code",
      "source": [
        "with open(\"/content/pcbdataset/data.yaml\",\"w\") as file:\n",
        "  yaml.dump(config,file)"
      ],
      "metadata": {
        "id": "Xoxq-Tl1smxU"
      },
      "execution_count": 5,
      "outputs": []
    },
    {
      "cell_type": "code",
      "source": [
        "cd /content/yolov5/"
      ],
      "metadata": {
        "colab": {
          "base_uri": "https://localhost:8080/"
        },
        "id": "zQb_b3Hw-Zlh",
        "outputId": "6d423d30-6fde-47d3-dafe-ebb57f3d160e"
      },
      "execution_count": 6,
      "outputs": [
        {
          "output_type": "stream",
          "name": "stdout",
          "text": [
            "/content/yolov5\n"
          ]
        }
      ]
    },
    {
      "cell_type": "code",
      "source": [],
      "metadata": {
        "id": "uHP-LzEz_7lV"
      },
      "execution_count": null,
      "outputs": []
    },
    {
      "cell_type": "code",
      "source": [
        "!python train.py --img 416 --batch-size 8 --epochs 50  --data /content/pcbdataset/data.yaml --weights yolov5x.pt"
      ],
      "metadata": {
        "colab": {
          "base_uri": "https://localhost:8080/"
        },
        "id": "lYGBp0p2vLJ-",
        "outputId": "4a6879f0-589e-4a0d-b8ad-08143ae4de2c"
      },
      "execution_count": 8,
      "outputs": [
        {
          "output_type": "stream",
          "name": "stdout",
          "text": [
            "2024-01-28 15:26:45.352722: E external/local_xla/xla/stream_executor/cuda/cuda_dnn.cc:9261] Unable to register cuDNN factory: Attempting to register factory for plugin cuDNN when one has already been registered\n",
            "2024-01-28 15:26:45.352771: E external/local_xla/xla/stream_executor/cuda/cuda_fft.cc:607] Unable to register cuFFT factory: Attempting to register factory for plugin cuFFT when one has already been registered\n",
            "2024-01-28 15:26:45.354100: E external/local_xla/xla/stream_executor/cuda/cuda_blas.cc:1515] Unable to register cuBLAS factory: Attempting to register factory for plugin cuBLAS when one has already been registered\n",
            "\u001b[34m\u001b[1mtrain: \u001b[0mweights=yolov5x.pt, cfg=, data=/content/pcbdataset/data.yaml, hyp=data/hyps/hyp.scratch-low.yaml, epochs=50, batch_size=8, imgsz=416, rect=False, resume=False, nosave=False, noval=False, noautoanchor=False, noplots=False, evolve=None, evolve_population=data/hyps, resume_evolve=None, bucket=, cache=None, image_weights=False, device=, multi_scale=False, single_cls=False, optimizer=SGD, sync_bn=False, workers=8, project=runs/train, name=exp, exist_ok=False, quad=False, cos_lr=False, label_smoothing=0.0, patience=100, freeze=[0], save_period=-1, seed=0, local_rank=-1, entity=None, upload_dataset=False, bbox_interval=-1, artifact_alias=latest, ndjson_console=False, ndjson_file=False\n",
            "\u001b[34m\u001b[1mgithub: \u001b[0mup to date with https://github.com/ultralytics/yolov5 ✅\n",
            "YOLOv5 🚀 v7.0-279-g72749c1c Python-3.10.12 torch-2.1.0+cu121 CUDA:0 (Tesla T4, 15102MiB)\n",
            "\n",
            "\u001b[34m\u001b[1mhyperparameters: \u001b[0mlr0=0.01, lrf=0.01, momentum=0.937, weight_decay=0.0005, warmup_epochs=3.0, warmup_momentum=0.8, warmup_bias_lr=0.1, box=0.05, cls=0.5, cls_pw=1.0, obj=1.0, obj_pw=1.0, iou_t=0.2, anchor_t=4.0, fl_gamma=0.0, hsv_h=0.015, hsv_s=0.7, hsv_v=0.4, degrees=0.0, translate=0.1, scale=0.5, shear=0.0, perspective=0.0, flipud=0.0, fliplr=0.5, mosaic=1.0, mixup=0.0, copy_paste=0.0\n",
            "\u001b[34m\u001b[1mComet: \u001b[0mrun 'pip install comet_ml' to automatically track and visualize YOLOv5 🚀 runs in Comet\n",
            "\u001b[34m\u001b[1mTensorBoard: \u001b[0mStart with 'tensorboard --logdir runs/train', view at http://localhost:6006/\n",
            "Overriding model.yaml nc=80 with nc=6\n",
            "\n",
            "                 from  n    params  module                                  arguments                     \n",
            "  0                -1  1      8800  models.common.Conv                      [3, 80, 6, 2, 2]              \n",
            "  1                -1  1    115520  models.common.Conv                      [80, 160, 3, 2]               \n",
            "  2                -1  4    309120  models.common.C3                        [160, 160, 4]                 \n",
            "  3                -1  1    461440  models.common.Conv                      [160, 320, 3, 2]              \n",
            "  4                -1  8   2259200  models.common.C3                        [320, 320, 8]                 \n",
            "  5                -1  1   1844480  models.common.Conv                      [320, 640, 3, 2]              \n",
            "  6                -1 12  13125120  models.common.C3                        [640, 640, 12]                \n",
            "  7                -1  1   7375360  models.common.Conv                      [640, 1280, 3, 2]             \n",
            "  8                -1  4  19676160  models.common.C3                        [1280, 1280, 4]               \n",
            "  9                -1  1   4099840  models.common.SPPF                      [1280, 1280, 5]               \n",
            " 10                -1  1    820480  models.common.Conv                      [1280, 640, 1, 1]             \n",
            " 11                -1  1         0  torch.nn.modules.upsampling.Upsample    [None, 2, 'nearest']          \n",
            " 12           [-1, 6]  1         0  models.common.Concat                    [1]                           \n",
            " 13                -1  4   5332480  models.common.C3                        [1280, 640, 4, False]         \n",
            " 14                -1  1    205440  models.common.Conv                      [640, 320, 1, 1]              \n",
            " 15                -1  1         0  torch.nn.modules.upsampling.Upsample    [None, 2, 'nearest']          \n",
            " 16           [-1, 4]  1         0  models.common.Concat                    [1]                           \n",
            " 17                -1  4   1335040  models.common.C3                        [640, 320, 4, False]          \n",
            " 18                -1  1    922240  models.common.Conv                      [320, 320, 3, 2]              \n",
            " 19          [-1, 14]  1         0  models.common.Concat                    [1]                           \n",
            " 20                -1  4   4922880  models.common.C3                        [640, 640, 4, False]          \n",
            " 21                -1  1   3687680  models.common.Conv                      [640, 640, 3, 2]              \n",
            " 22          [-1, 10]  1         0  models.common.Concat                    [1]                           \n",
            " 23                -1  4  19676160  models.common.C3                        [1280, 1280, 4, False]        \n",
            " 24      [17, 20, 23]  1     74019  models.yolo.Detect                      [6, [[10, 13, 16, 30, 33, 23], [30, 61, 62, 45, 59, 119], [116, 90, 156, 198, 373, 326]], [320, 640, 1280]]\n",
            "Model summary: 445 layers, 86251459 parameters, 86251459 gradients, 204.7 GFLOPs\n",
            "\n",
            "Transferred 739/745 items from yolov5x.pt\n",
            "\u001b[34m\u001b[1mAMP: \u001b[0mchecks passed ✅\n",
            "\u001b[34m\u001b[1moptimizer:\u001b[0m SGD(lr=0.01) with parameter groups 123 weight(decay=0.0), 126 weight(decay=0.0005), 126 bias\n",
            "\u001b[34m\u001b[1malbumentations: \u001b[0mBlur(p=0.01, blur_limit=(3, 7)), MedianBlur(p=0.01, blur_limit=(3, 7)), ToGray(p=0.01), CLAHE(p=0.01, clip_limit=(1, 4.0), tile_grid_size=(8, 8))\n",
            "\u001b[34m\u001b[1mtrain: \u001b[0mScanning /content/pcbdataset/train/labels... 1718 images, 0 backgrounds, 0 corrupt: 100% 1718/1718 [00:00<00:00, 1831.38it/s]\n",
            "\u001b[34m\u001b[1mtrain: \u001b[0mNew cache created: /content/pcbdataset/train/labels.cache\n",
            "\u001b[34m\u001b[1mval: \u001b[0mScanning /content/pcbdataset/valid/labels... 488 images, 0 backgrounds, 0 corrupt: 100% 488/488 [00:00<00:00, 543.33it/s]\n",
            "\u001b[34m\u001b[1mval: \u001b[0mNew cache created: /content/pcbdataset/valid/labels.cache\n",
            "\n",
            "\u001b[34m\u001b[1mAutoAnchor: \u001b[0m4.49 anchors/target, 1.000 Best Possible Recall (BPR). Current anchors are a good fit to dataset ✅\n",
            "Plotting labels to runs/train/exp2/labels.jpg... \n",
            "Image sizes 416 train, 416 val\n",
            "Using 2 dataloader workers\n",
            "Logging results to \u001b[1mruns/train/exp2\u001b[0m\n",
            "Starting training for 50 epochs...\n",
            "\n",
            "      Epoch    GPU_mem   box_loss   obj_loss   cls_loss  Instances       Size\n",
            "       0/49      4.28G     0.1012     0.0152    0.04443         10        416: 100% 215/215 [01:24<00:00,  2.56it/s]\n",
            "                 Class     Images  Instances          P          R      mAP50   mAP50-95: 100% 31/31 [00:11<00:00,  2.70it/s]\n",
            "                   all        488        943   0.000479     0.0629    0.00195   0.000453\n",
            "\n",
            "      Epoch    GPU_mem   box_loss   obj_loss   cls_loss  Instances       Size\n",
            "       1/49      4.47G    0.08511    0.01614    0.03802         21        416: 100% 215/215 [01:13<00:00,  2.91it/s]\n",
            "                 Class     Images  Instances          P          R      mAP50   mAP50-95: 100% 31/31 [00:13<00:00,  2.37it/s]\n",
            "                   all        488        943       0.28      0.208      0.113     0.0331\n",
            "\n",
            "      Epoch    GPU_mem   box_loss   obj_loss   cls_loss  Instances       Size\n",
            "       2/49      4.47G    0.06679    0.01384    0.03071         18        416: 100% 215/215 [01:13<00:00,  2.91it/s]\n",
            "                 Class     Images  Instances          P          R      mAP50   mAP50-95: 100% 31/31 [00:11<00:00,  2.76it/s]\n",
            "                   all        488        943      0.348      0.434      0.297      0.106\n",
            "\n",
            "      Epoch    GPU_mem   box_loss   obj_loss   cls_loss  Instances       Size\n",
            "       3/49      4.47G    0.05981    0.01243    0.02356         15        416: 100% 215/215 [01:13<00:00,  2.91it/s]\n",
            "                 Class     Images  Instances          P          R      mAP50   mAP50-95: 100% 31/31 [00:11<00:00,  2.65it/s]\n",
            "                   all        488        943      0.394      0.678      0.461      0.154\n",
            "\n",
            "      Epoch    GPU_mem   box_loss   obj_loss   cls_loss  Instances       Size\n",
            "       4/49      4.47G     0.0561    0.01072    0.01831         14        416: 100% 215/215 [01:13<00:00,  2.93it/s]\n",
            "                 Class     Images  Instances          P          R      mAP50   mAP50-95: 100% 31/31 [00:10<00:00,  3.00it/s]\n",
            "                   all        488        943       0.58      0.689       0.62      0.216\n",
            "\n",
            "      Epoch    GPU_mem   box_loss   obj_loss   cls_loss  Instances       Size\n",
            "       5/49      4.47G    0.05293   0.009708    0.01327         14        416: 100% 215/215 [01:13<00:00,  2.94it/s]\n",
            "                 Class     Images  Instances          P          R      mAP50   mAP50-95: 100% 31/31 [00:11<00:00,  2.67it/s]\n",
            "                   all        488        943      0.697      0.737      0.685      0.253\n",
            "\n",
            "      Epoch    GPU_mem   box_loss   obj_loss   cls_loss  Instances       Size\n",
            "       6/49      4.47G    0.05059    0.00964    0.01091         15        416: 100% 215/215 [01:13<00:00,  2.91it/s]\n",
            "                 Class     Images  Instances          P          R      mAP50   mAP50-95: 100% 31/31 [00:11<00:00,  2.75it/s]\n",
            "                   all        488        943      0.733      0.822      0.781      0.298\n",
            "\n",
            "      Epoch    GPU_mem   box_loss   obj_loss   cls_loss  Instances       Size\n",
            "       7/49      4.47G    0.04961    0.00935   0.009392         12        416: 100% 215/215 [01:12<00:00,  2.95it/s]\n",
            "                 Class     Images  Instances          P          R      mAP50   mAP50-95: 100% 31/31 [00:11<00:00,  2.74it/s]\n",
            "                   all        488        943      0.754      0.794      0.814      0.318\n",
            "\n",
            "      Epoch    GPU_mem   box_loss   obj_loss   cls_loss  Instances       Size\n",
            "       8/49      4.47G    0.04501   0.008808   0.007356         13        416: 100% 215/215 [01:14<00:00,  2.90it/s]\n",
            "                 Class     Images  Instances          P          R      mAP50   mAP50-95: 100% 31/31 [00:09<00:00,  3.17it/s]\n",
            "                   all        488        943      0.853      0.853      0.852      0.342\n",
            "\n",
            "      Epoch    GPU_mem   box_loss   obj_loss   cls_loss  Instances       Size\n",
            "       9/49      4.47G    0.04736   0.008555   0.008074          5        416: 100% 215/215 [01:14<00:00,  2.90it/s]\n",
            "                 Class     Images  Instances          P          R      mAP50   mAP50-95: 100% 31/31 [00:10<00:00,  2.87it/s]\n",
            "                   all        488        943      0.881      0.865      0.902      0.374\n",
            "\n",
            "      Epoch    GPU_mem   box_loss   obj_loss   cls_loss  Instances       Size\n",
            "      10/49      4.47G    0.04587   0.008556   0.007523         14        416: 100% 215/215 [01:12<00:00,  2.96it/s]\n",
            "                 Class     Images  Instances          P          R      mAP50   mAP50-95: 100% 31/31 [00:11<00:00,  2.74it/s]\n",
            "                   all        488        943      0.901      0.875      0.913      0.373\n",
            "\n",
            "      Epoch    GPU_mem   box_loss   obj_loss   cls_loss  Instances       Size\n",
            "      11/49      4.47G    0.04442   0.008368   0.006191         14        416: 100% 215/215 [01:13<00:00,  2.92it/s]\n",
            "                 Class     Images  Instances          P          R      mAP50   mAP50-95: 100% 31/31 [00:10<00:00,  3.02it/s]\n",
            "                   all        488        943      0.883      0.881      0.892      0.386\n",
            "\n",
            "      Epoch    GPU_mem   box_loss   obj_loss   cls_loss  Instances       Size\n",
            "      12/49      4.47G    0.04346   0.008797   0.007019         20        416: 100% 215/215 [01:12<00:00,  2.96it/s]\n",
            "                 Class     Images  Instances          P          R      mAP50   mAP50-95: 100% 31/31 [00:11<00:00,  2.67it/s]\n",
            "                   all        488        943      0.898      0.887      0.919      0.394\n",
            "\n",
            "      Epoch    GPU_mem   box_loss   obj_loss   cls_loss  Instances       Size\n",
            "      13/49      4.47G    0.04302   0.008437   0.006645         18        416: 100% 215/215 [01:12<00:00,  2.95it/s]\n",
            "                 Class     Images  Instances          P          R      mAP50   mAP50-95: 100% 31/31 [00:09<00:00,  3.13it/s]\n",
            "                   all        488        943       0.94      0.909      0.928      0.382\n",
            "\n",
            "      Epoch    GPU_mem   box_loss   obj_loss   cls_loss  Instances       Size\n",
            "      14/49      4.47G    0.04306   0.008081    0.00585         19        416: 100% 215/215 [01:14<00:00,  2.88it/s]\n",
            "                 Class     Images  Instances          P          R      mAP50   mAP50-95: 100% 31/31 [00:10<00:00,  3.03it/s]\n",
            "                   all        488        943       0.92      0.907      0.934      0.396\n",
            "\n",
            "      Epoch    GPU_mem   box_loss   obj_loss   cls_loss  Instances       Size\n",
            "      15/49      4.47G    0.04207   0.008261   0.006226         11        416: 100% 215/215 [01:13<00:00,  2.94it/s]\n",
            "                 Class     Images  Instances          P          R      mAP50   mAP50-95: 100% 31/31 [00:10<00:00,  3.01it/s]\n",
            "                   all        488        943      0.947      0.889      0.944       0.42\n",
            "\n",
            "      Epoch    GPU_mem   box_loss   obj_loss   cls_loss  Instances       Size\n",
            "      16/49      4.47G    0.04114   0.008027   0.005086         16        416: 100% 215/215 [01:16<00:00,  2.81it/s]\n",
            "                 Class     Images  Instances          P          R      mAP50   mAP50-95: 100% 31/31 [00:09<00:00,  3.41it/s]\n",
            "                   all        488        943      0.936      0.907      0.915      0.392\n",
            "\n",
            "      Epoch    GPU_mem   box_loss   obj_loss   cls_loss  Instances       Size\n",
            "      17/49      4.47G    0.04177    0.00809   0.005122          9        416: 100% 215/215 [01:15<00:00,  2.84it/s]\n",
            "                 Class     Images  Instances          P          R      mAP50   mAP50-95: 100% 31/31 [00:09<00:00,  3.35it/s]\n",
            "                   all        488        943      0.943      0.922      0.955      0.431\n",
            "\n",
            "      Epoch    GPU_mem   box_loss   obj_loss   cls_loss  Instances       Size\n",
            "      18/49      4.47G    0.03938   0.007794   0.004033         17        416: 100% 215/215 [01:13<00:00,  2.91it/s]\n",
            "                 Class     Images  Instances          P          R      mAP50   mAP50-95: 100% 31/31 [00:09<00:00,  3.23it/s]\n",
            "                   all        488        943      0.958      0.941      0.964      0.439\n",
            "\n",
            "      Epoch    GPU_mem   box_loss   obj_loss   cls_loss  Instances       Size\n",
            "      19/49      4.47G    0.03879   0.007563   0.004681          8        416: 100% 215/215 [01:14<00:00,  2.87it/s]\n",
            "                 Class     Images  Instances          P          R      mAP50   mAP50-95: 100% 31/31 [00:10<00:00,  2.97it/s]\n",
            "                   all        488        943      0.958      0.953      0.965      0.452\n",
            "\n",
            "      Epoch    GPU_mem   box_loss   obj_loss   cls_loss  Instances       Size\n",
            "      20/49      4.47G    0.03969   0.007599   0.004459         13        416: 100% 215/215 [01:16<00:00,  2.83it/s]\n",
            "                 Class     Images  Instances          P          R      mAP50   mAP50-95: 100% 31/31 [00:10<00:00,  3.01it/s]\n",
            "                   all        488        943       0.94      0.947       0.96      0.431\n",
            "\n",
            "      Epoch    GPU_mem   box_loss   obj_loss   cls_loss  Instances       Size\n",
            "      21/49      4.47G    0.03835    0.00747   0.003701         11        416: 100% 215/215 [01:14<00:00,  2.90it/s]\n",
            "                 Class     Images  Instances          P          R      mAP50   mAP50-95: 100% 31/31 [00:10<00:00,  3.01it/s]\n",
            "                   all        488        943       0.96      0.939       0.96      0.446\n",
            "\n",
            "      Epoch    GPU_mem   box_loss   obj_loss   cls_loss  Instances       Size\n",
            "      22/49      4.47G    0.03784    0.00747   0.003769         12        416: 100% 215/215 [01:15<00:00,  2.83it/s]\n",
            "                 Class     Images  Instances          P          R      mAP50   mAP50-95: 100% 31/31 [00:10<00:00,  2.92it/s]\n",
            "                   all        488        943      0.954      0.953      0.964      0.455\n",
            "\n",
            "      Epoch    GPU_mem   box_loss   obj_loss   cls_loss  Instances       Size\n",
            "      23/49      4.47G    0.03711   0.007249   0.003503         20        416: 100% 215/215 [01:14<00:00,  2.87it/s]\n",
            "                 Class     Images  Instances          P          R      mAP50   mAP50-95: 100% 31/31 [00:11<00:00,  2.73it/s]\n",
            "                   all        488        943      0.965       0.95      0.966      0.459\n",
            "\n",
            "      Epoch    GPU_mem   box_loss   obj_loss   cls_loss  Instances       Size\n",
            "      24/49      4.47G    0.03625   0.006934   0.003297         18        416: 100% 215/215 [01:13<00:00,  2.94it/s]\n",
            "                 Class     Images  Instances          P          R      mAP50   mAP50-95: 100% 31/31 [00:10<00:00,  3.05it/s]\n",
            "                   all        488        943      0.954      0.952      0.956      0.463\n",
            "\n",
            "      Epoch    GPU_mem   box_loss   obj_loss   cls_loss  Instances       Size\n",
            "      25/49      4.47G    0.03553   0.007165   0.003471         10        416: 100% 215/215 [01:14<00:00,  2.90it/s]\n",
            "                 Class     Images  Instances          P          R      mAP50   mAP50-95: 100% 31/31 [00:10<00:00,  3.05it/s]\n",
            "                   all        488        943      0.968      0.968      0.968      0.469\n",
            "\n",
            "      Epoch    GPU_mem   box_loss   obj_loss   cls_loss  Instances       Size\n",
            "      26/49      4.47G     0.0366   0.007053   0.003298         15        416: 100% 215/215 [01:13<00:00,  2.94it/s]\n",
            "                 Class     Images  Instances          P          R      mAP50   mAP50-95: 100% 31/31 [00:10<00:00,  3.01it/s]\n",
            "                   all        488        943      0.971      0.947      0.966      0.481\n",
            "\n",
            "      Epoch    GPU_mem   box_loss   obj_loss   cls_loss  Instances       Size\n",
            "      27/49      4.47G    0.03591   0.007287   0.003553         19        416: 100% 215/215 [01:13<00:00,  2.94it/s]\n",
            "                 Class     Images  Instances          P          R      mAP50   mAP50-95: 100% 31/31 [00:09<00:00,  3.14it/s]\n",
            "                   all        488        943       0.96      0.952      0.959      0.452\n",
            "\n",
            "      Epoch    GPU_mem   box_loss   obj_loss   cls_loss  Instances       Size\n",
            "      28/49      4.47G    0.03507   0.007205   0.003078         20        416: 100% 215/215 [01:15<00:00,  2.86it/s]\n",
            "                 Class     Images  Instances          P          R      mAP50   mAP50-95: 100% 31/31 [00:09<00:00,  3.14it/s]\n",
            "                   all        488        943      0.964      0.966      0.972      0.476\n",
            "\n",
            "      Epoch    GPU_mem   box_loss   obj_loss   cls_loss  Instances       Size\n",
            "      29/49      4.47G    0.03488   0.006887   0.002746         10        416: 100% 215/215 [01:15<00:00,  2.86it/s]\n",
            "                 Class     Images  Instances          P          R      mAP50   mAP50-95: 100% 31/31 [00:09<00:00,  3.15it/s]\n",
            "                   all        488        943      0.977      0.965      0.978      0.492\n",
            "\n",
            "      Epoch    GPU_mem   box_loss   obj_loss   cls_loss  Instances       Size\n",
            "      30/49      4.47G    0.03228   0.006831    0.00251         16        416: 100% 215/215 [01:15<00:00,  2.83it/s]\n",
            "                 Class     Images  Instances          P          R      mAP50   mAP50-95: 100% 31/31 [00:10<00:00,  2.99it/s]\n",
            "                   all        488        943      0.973      0.966      0.972      0.485\n",
            "\n",
            "      Epoch    GPU_mem   box_loss   obj_loss   cls_loss  Instances       Size\n",
            "      31/49      4.47G    0.03414   0.006748   0.002797         16        416: 100% 215/215 [01:15<00:00,  2.86it/s]\n",
            "                 Class     Images  Instances          P          R      mAP50   mAP50-95: 100% 31/31 [00:11<00:00,  2.68it/s]\n",
            "                   all        488        943       0.97      0.969      0.975       0.49\n",
            "\n",
            "      Epoch    GPU_mem   box_loss   obj_loss   cls_loss  Instances       Size\n",
            "      32/49      4.47G    0.03332   0.006785   0.002828         12        416: 100% 215/215 [01:13<00:00,  2.92it/s]\n",
            "                 Class     Images  Instances          P          R      mAP50   mAP50-95: 100% 31/31 [00:11<00:00,  2.77it/s]\n",
            "                   all        488        943      0.964      0.955      0.968      0.485\n",
            "\n",
            "      Epoch    GPU_mem   box_loss   obj_loss   cls_loss  Instances       Size\n",
            "      33/49      4.47G    0.03225   0.006665   0.002415          9        416: 100% 215/215 [01:14<00:00,  2.90it/s]\n",
            "                 Class     Images  Instances          P          R      mAP50   mAP50-95: 100% 31/31 [00:11<00:00,  2.59it/s]\n",
            "                   all        488        943      0.971      0.974      0.972      0.485\n",
            "\n",
            "      Epoch    GPU_mem   box_loss   obj_loss   cls_loss  Instances       Size\n",
            "      34/49      4.47G    0.03223     0.0068   0.002469         18        416: 100% 215/215 [01:13<00:00,  2.94it/s]\n",
            "                 Class     Images  Instances          P          R      mAP50   mAP50-95: 100% 31/31 [00:12<00:00,  2.56it/s]\n",
            "                   all        488        943      0.969      0.969      0.976      0.494\n",
            "\n",
            "      Epoch    GPU_mem   box_loss   obj_loss   cls_loss  Instances       Size\n",
            "      35/49      4.47G    0.03126   0.006642   0.002252         18        416: 100% 215/215 [01:14<00:00,  2.88it/s]\n",
            "                 Class     Images  Instances          P          R      mAP50   mAP50-95: 100% 31/31 [00:11<00:00,  2.61it/s]\n",
            "                   all        488        943      0.964      0.971      0.968      0.485\n",
            "\n",
            "      Epoch    GPU_mem   box_loss   obj_loss   cls_loss  Instances       Size\n",
            "      36/49      4.47G    0.03159   0.006574   0.002185          7        416: 100% 215/215 [01:14<00:00,  2.87it/s]\n",
            "                 Class     Images  Instances          P          R      mAP50   mAP50-95: 100% 31/31 [00:12<00:00,  2.51it/s]\n",
            "                   all        488        943      0.967      0.963      0.972      0.496\n",
            "\n",
            "      Epoch    GPU_mem   box_loss   obj_loss   cls_loss  Instances       Size\n",
            "      37/49      4.47G    0.03106   0.006655   0.002738          6        416: 100% 215/215 [01:16<00:00,  2.83it/s]\n",
            "                 Class     Images  Instances          P          R      mAP50   mAP50-95: 100% 31/31 [00:12<00:00,  2.52it/s]\n",
            "                   all        488        943      0.965       0.97      0.973      0.503\n",
            "\n",
            "      Epoch    GPU_mem   box_loss   obj_loss   cls_loss  Instances       Size\n",
            "      38/49      4.47G    0.03045   0.006472   0.002142         11        416: 100% 215/215 [01:16<00:00,  2.82it/s]\n",
            "                 Class     Images  Instances          P          R      mAP50   mAP50-95: 100% 31/31 [00:12<00:00,  2.51it/s]\n",
            "                   all        488        943      0.971      0.974      0.976      0.502\n",
            "\n",
            "      Epoch    GPU_mem   box_loss   obj_loss   cls_loss  Instances       Size\n",
            "      39/49      4.47G    0.02995   0.006508   0.001917         11        416: 100% 215/215 [01:16<00:00,  2.83it/s]\n",
            "                 Class     Images  Instances          P          R      mAP50   mAP50-95: 100% 31/31 [00:12<00:00,  2.53it/s]\n",
            "                   all        488        943      0.975      0.969      0.977      0.511\n",
            "\n",
            "      Epoch    GPU_mem   box_loss   obj_loss   cls_loss  Instances       Size\n",
            "      40/49      4.47G    0.02977   0.006403   0.001734         12        416: 100% 215/215 [01:16<00:00,  2.80it/s]\n",
            "                 Class     Images  Instances          P          R      mAP50   mAP50-95: 100% 31/31 [00:10<00:00,  2.87it/s]\n",
            "                   all        488        943      0.969      0.973      0.975      0.511\n",
            "\n",
            "      Epoch    GPU_mem   box_loss   obj_loss   cls_loss  Instances       Size\n",
            "      41/49      4.47G    0.02919   0.006384   0.002078         21        416: 100% 215/215 [01:17<00:00,  2.76it/s]\n",
            "                 Class     Images  Instances          P          R      mAP50   mAP50-95: 100% 31/31 [00:10<00:00,  2.82it/s]\n",
            "                   all        488        943       0.97      0.977      0.976      0.518\n",
            "\n",
            "      Epoch    GPU_mem   box_loss   obj_loss   cls_loss  Instances       Size\n",
            "      42/49      4.47G    0.02869    0.00626   0.001915         15        416: 100% 215/215 [01:18<00:00,  2.74it/s]\n",
            "                 Class     Images  Instances          P          R      mAP50   mAP50-95: 100% 31/31 [00:10<00:00,  2.91it/s]\n",
            "                   all        488        943      0.969      0.977      0.977      0.513\n",
            "\n",
            "      Epoch    GPU_mem   box_loss   obj_loss   cls_loss  Instances       Size\n",
            "      43/49      4.47G    0.02858   0.006158    0.00175         19        416: 100% 215/215 [01:17<00:00,  2.78it/s]\n",
            "                 Class     Images  Instances          P          R      mAP50   mAP50-95: 100% 31/31 [00:09<00:00,  3.19it/s]\n",
            "                   all        488        943      0.973      0.976      0.978      0.508\n",
            "\n",
            "      Epoch    GPU_mem   box_loss   obj_loss   cls_loss  Instances       Size\n",
            "      44/49      4.47G    0.02882   0.006264   0.001943         18        416: 100% 215/215 [01:18<00:00,  2.75it/s]\n",
            "                 Class     Images  Instances          P          R      mAP50   mAP50-95: 100% 31/31 [00:10<00:00,  3.05it/s]\n",
            "                   all        488        943      0.965      0.977      0.976      0.508\n",
            "\n",
            "      Epoch    GPU_mem   box_loss   obj_loss   cls_loss  Instances       Size\n",
            "      45/49      4.47G    0.02762   0.006131    0.00159         14        416: 100% 215/215 [01:15<00:00,  2.85it/s]\n",
            "                 Class     Images  Instances          P          R      mAP50   mAP50-95: 100% 31/31 [00:12<00:00,  2.53it/s]\n",
            "                   all        488        943       0.97      0.975      0.977      0.516\n",
            "\n",
            "      Epoch    GPU_mem   box_loss   obj_loss   cls_loss  Instances       Size\n",
            "      46/49      4.47G    0.02683   0.006204   0.001494         24        416: 100% 215/215 [01:14<00:00,  2.87it/s]\n",
            "                 Class     Images  Instances          P          R      mAP50   mAP50-95: 100% 31/31 [00:11<00:00,  2.60it/s]\n",
            "                   all        488        943       0.97      0.981      0.977      0.512\n",
            "\n",
            "      Epoch    GPU_mem   box_loss   obj_loss   cls_loss  Instances       Size\n",
            "      47/49      4.47G     0.0273   0.006009   0.001558         21        416: 100% 215/215 [01:17<00:00,  2.78it/s]\n",
            "                 Class     Images  Instances          P          R      mAP50   mAP50-95: 100% 31/31 [00:11<00:00,  2.62it/s]\n",
            "                   all        488        943       0.97      0.976      0.976      0.515\n",
            "\n",
            "      Epoch    GPU_mem   box_loss   obj_loss   cls_loss  Instances       Size\n",
            "      48/49      4.47G    0.02626   0.005945    0.00155         21        416: 100% 215/215 [01:15<00:00,  2.86it/s]\n",
            "                 Class     Images  Instances          P          R      mAP50   mAP50-95: 100% 31/31 [00:11<00:00,  2.65it/s]\n",
            "                   all        488        943       0.97      0.976      0.976      0.514\n",
            "\n",
            "      Epoch    GPU_mem   box_loss   obj_loss   cls_loss  Instances       Size\n",
            "      49/49      4.47G    0.02612   0.006071   0.001706          9        416: 100% 215/215 [01:17<00:00,  2.78it/s]\n",
            "                 Class     Images  Instances          P          R      mAP50   mAP50-95: 100% 31/31 [00:12<00:00,  2.57it/s]\n",
            "                   all        488        943       0.97      0.979      0.978      0.519\n",
            "\n",
            "50 epochs completed in 1.282 hours.\n",
            "Optimizer stripped from runs/train/exp2/weights/last.pt, 173.1MB\n",
            "Optimizer stripped from runs/train/exp2/weights/best.pt, 173.1MB\n",
            "\n",
            "Validating runs/train/exp2/weights/best.pt...\n",
            "Fusing layers... \n",
            "Model summary: 322 layers, 86207059 parameters, 0 gradients, 203.9 GFLOPs\n",
            "                 Class     Images  Instances          P          R      mAP50   mAP50-95: 100% 31/31 [00:13<00:00,  2.25it/s]\n",
            "                   all        488        943       0.97      0.979      0.978      0.519\n",
            "          missing_hole        488        150      0.996      0.993      0.995      0.571\n",
            "            mouse_bite        488        131      0.963      0.997      0.981      0.509\n",
            "          open_circuit        488        161      0.981      0.969      0.979      0.529\n",
            "                 short        488        186      0.957      0.962      0.951      0.497\n",
            "                  spur        488        155      0.954      0.968      0.977      0.527\n",
            "       spurious_copper        488        160      0.967      0.988      0.983      0.477\n",
            "Results saved to \u001b[1mruns/train/exp2\u001b[0m\n"
          ]
        }
      ]
    },
    {
      "cell_type": "code",
      "source": [
        "!python detect.py --weights runs/train/exp2/weights/best.pt --img 418 --conf 0.25 --source /content/pcbdataset/test/images/rotation_90_light_11_spurious_copper_09_2_600_jpg.rf.b61d373198687e769971e3a54ed58b47.jpg\n",
        "Image(filename=\"/content/pcbdataset/test/images/rotation_90_light_11_spurious_copper_09_2_600_jpg.rf.b61d373198687e769971e3a54ed58b47.jpg\",width=418)"
      ],
      "metadata": {
        "id": "8F4kucAkxSPd",
        "colab": {
          "base_uri": "https://localhost:8080/",
          "height": 629
        },
        "outputId": "54a2cf78-dc13-496c-9283-798e93ed060f"
      },
      "execution_count": 13,
      "outputs": [
        {
          "output_type": "stream",
          "name": "stdout",
          "text": [
            "\u001b[34m\u001b[1mdetect: \u001b[0mweights=['runs/train/exp2/weights/best.pt'], source=/content/pcbdataset/test/images/rotation_90_light_11_spurious_copper_09_2_600_jpg.rf.b61d373198687e769971e3a54ed58b47.jpg, data=data/coco128.yaml, imgsz=[418, 418], conf_thres=0.25, iou_thres=0.45, max_det=1000, device=, view_img=False, save_txt=False, save_csv=False, save_conf=False, save_crop=False, nosave=False, classes=None, agnostic_nms=False, augment=False, visualize=False, update=False, project=runs/detect, name=exp, exist_ok=False, line_thickness=3, hide_labels=False, hide_conf=False, half=False, dnn=False, vid_stride=1\n",
            "YOLOv5 🚀 v7.0-279-g72749c1c Python-3.10.12 torch-2.1.0+cu121 CUDA:0 (Tesla T4, 15102MiB)\n",
            "\n",
            "Fusing layers... \n",
            "Model summary: 322 layers, 86207059 parameters, 0 gradients, 203.9 GFLOPs\n",
            "WARNING ⚠️ --img-size [418, 418] must be multiple of max stride 32, updating to [448, 448]\n",
            "WARNING ⚠️ NMS time limit 0.550s exceeded\n",
            "image 1/1 /content/pcbdataset/test/images/rotation_90_light_11_spurious_copper_09_2_600_jpg.rf.b61d373198687e769971e3a54ed58b47.jpg: 448x448 2 spurious_coppers, 46.8ms\n",
            "Speed: 0.5ms pre-process, 46.8ms inference, 769.4ms NMS per image at shape (1, 3, 448, 448)\n",
            "Results saved to \u001b[1mruns/detect/exp3\u001b[0m\n"
          ]
        },
        {
          "output_type": "execute_result",
          "data": {
            "image/jpeg": "[encoded data removed]",
            "text/plain": [
              "<IPython.core.display.Image object>"
            ]
          },
          "metadata": {
            "image/jpeg": {
              "width": 418
            }
          },
          "execution_count": 13
        }
      ]
    },
    {
      "cell_type": "code",
      "source": [
        "cd /content/"
      ],
      "metadata": {
        "id": "LKc8l4F1xjFp",
        "colab": {
          "base_uri": "https://localhost:8080/"
        },
        "outputId": "1a1c2eb5-3ca4-43e4-bba3-1c25ea907f94"
      },
      "execution_count": 18,
      "outputs": [
        {
          "output_type": "stream",
          "name": "stdout",
          "text": [
            "/content\n"
          ]
        }
      ]
    },
    {
      "cell_type": "code",
      "source": [
        "import shutil\n",
        "\n",
        "# Replace 'your_folder_path' with the path to the folder you want to zip\n",
        "folder_path = '/content/yolov5'\n",
        "\n",
        "# Replace 'your_zip_file.zip' with the desired name for your zip file\n",
        "zip_file_name = '/content/pcbmodel.zip'\n",
        "\n",
        "shutil.make_archive(zip_file_name, 'zip', folder_path)\n"
      ],
      "metadata": {
        "colab": {
          "base_uri": "https://localhost:8080/",
          "height": 35
        },
        "id": "TefUR3P4EZEn",
        "outputId": "157b5abf-530d-4426-d7f5-d8f6e29cea95"
      },
      "execution_count": 28,
      "outputs": [
        {
          "output_type": "execute_result",
          "data": {
            "text/plain": [
              "'/content/pcbmodel.zip.zip'"
            ],
            "application/vnd.google.colaboratory.intrinsic+json": {
              "type": "string"
            }
          },
          "metadata": {},
          "execution_count": 28
        }
      ]
    },
    {
      "cell_type": "code",
      "source": [
        "from google.colab import files\n",
        "files.download(\"/content/pcbmodel.zip.zip\")"
      ],
      "metadata": {
        "colab": {
          "base_uri": "https://localhost:8080/",
          "height": 17
        },
        "id": "Tsn2zBV4KBAd",
        "outputId": "7c8bec90-c1ef-4624-8c2d-8451df642187"
      },
      "execution_count": 29,
      "outputs": [
        {
          "output_type": "display_data",
          "data": {
            "text/plain": [
              "<IPython.core.display.Javascript object>"
            ],
            "application/javascript": [
              "\n",
              "    async function download(id, filename, size) {\n",
              "      if (!google.colab.kernel.accessAllowed) {\n",
              "        return;\n",
              "      }\n",
              "      const div = document.createElement('div');\n",
              "      const label = document.createElement('label');\n",
              "      label.textContent = `Downloading \"${filename}\": `;\n",
              "      div.appendChild(label);\n",
              "      const progress = document.createElement('progress');\n",
              "      progress.max = size;\n",
              "      div.appendChild(progress);\n",
              "      document.body.appendChild(div);\n",
              "\n",
              "      const buffers = [];\n",
              "      let downloaded = 0;\n",
              "\n",
              "      const channel = await google.colab.kernel.comms.open(id);\n",
              "      // Send a message to notify the kernel that we're ready.\n",
              "      channel.send({})\n",
              "\n",
              "      for await (const message of channel.messages) {\n",
              "        // Send a message to notify the kernel that we're ready.\n",
              "        channel.send({})\n",
              "        if (message.buffers) {\n",
              "          for (const buffer of message.buffers) {\n",
              "            buffers.push(buffer);\n",
              "            downloaded += buffer.byteLength;\n",
              "            progress.value = downloaded;\n",
              "          }\n",
              "        }\n",
              "      }\n",
              "      const blob = new Blob(buffers, {type: 'application/binary'});\n",
              "      const a = document.createElement('a');\n",
              "      a.href = window.URL.createObjectURL(blob);\n",
              "      a.download = filename;\n",
              "      div.appendChild(a);\n",
              "      a.click();\n",
              "      div.remove();\n",
              "    }\n",
              "  "
            ]
          },
          "metadata": {}
        },
        {
          "output_type": "display_data",
          "data": {
            "text/plain": [
              "<IPython.core.display.Javascript object>"
            ],
            "application/javascript": [
              "download(\"download_4db4fd1c-d5e2-4f87-aedf-76df54e7fc0d\", \"pcbmodel.zip.zip\", 504580545)"
            ]
          },
          "metadata": {}
        }
      ]
    }
  ]
}